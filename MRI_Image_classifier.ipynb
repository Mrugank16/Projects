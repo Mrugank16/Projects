{
  "nbformat": 4,
  "nbformat_minor": 0,
  "metadata": {
    "colab": {
      "provenance": []
    },
    "kernelspec": {
      "name": "python3",
      "display_name": "Python 3"
    },
    "language_info": {
      "name": "python"
    }
  },
  "cells": [
    {
      "cell_type": "code",
      "execution_count": 1,
      "metadata": {
        "id": "L_1nhSYhF85V"
      },
      "outputs": [],
      "source": [
        "import tensorflow as tf\n",
        "from keras.preprocessing.image import ImageDataGenerator"
      ]
    },
    {
      "cell_type": "code",
      "source": [
        "from google.colab import drive\n",
        "drive.mount('drive')"
      ],
      "metadata": {
        "colab": {
          "base_uri": "https://localhost:8080/"
        },
        "id": "2J327F1JGSpK",
        "outputId": "f6dd09c2-1582-4b5e-bd5f-4f1dee2a1161"
      },
      "execution_count": 2,
      "outputs": [
        {
          "output_type": "stream",
          "name": "stdout",
          "text": [
            "Mounted at drive\n"
          ]
        }
      ]
    },
    {
      "cell_type": "markdown",
      "source": [
        "## Data Preprocessing\n"
      ],
      "metadata": {
        "id": "iDUc6QD9N3T0"
      }
    },
    {
      "cell_type": "markdown",
      "source": [
        "processing training set"
      ],
      "metadata": {
        "id": "9U6jWF0AN7wm"
      }
    },
    {
      "cell_type": "code",
      "source": [
        "train_datagen = ImageDataGenerator(\n",
        "    rescale = 1./255,\n",
        "    shear_range = 0.2,\n",
        "    zoom_range = 0.2,\n",
        "    horizontal_flip = True\n",
        ")"
      ],
      "metadata": {
        "id": "FlPc2DLXGeHH"
      },
      "execution_count": 3,
      "outputs": []
    },
    {
      "cell_type": "code",
      "source": [
        "training_set = train_datagen.flow_from_directory(\n",
        "    'drive/My Drive/Deep Learning A-Z/Brain/Train',\n",
        "    target_size = (64,64),\n",
        "    batch_size = 32,\n",
        "    class_mode = 'binary'\n",
        ")"
      ],
      "metadata": {
        "colab": {
          "base_uri": "https://localhost:8080/"
        },
        "id": "3UYzmQnzG0DS",
        "outputId": "e116db09-a457-47b4-c1c5-ffcdc4414d95"
      },
      "execution_count": 4,
      "outputs": [
        {
          "output_type": "stream",
          "name": "stdout",
          "text": [
            "Found 629 images belonging to 2 classes.\n"
          ]
        }
      ]
    },
    {
      "cell_type": "markdown",
      "source": [
        "processing test set"
      ],
      "metadata": {
        "id": "qWiw7qNvN_Kf"
      }
    },
    {
      "cell_type": "code",
      "source": [
        "test_datagen = ImageDataGenerator(rescale = 1./255)"
      ],
      "metadata": {
        "id": "BbKz7eEvG741"
      },
      "execution_count": 5,
      "outputs": []
    },
    {
      "cell_type": "code",
      "source": [
        "test_set = test_datagen.flow_from_directory(\n",
        "    'drive/My Drive/Deep Learning A-Z/Brain/Val',\n",
        "    target_size = (64,64),\n",
        "    batch_size = 32,\n",
        "    class_mode = 'binary'\n",
        ")"
      ],
      "metadata": {
        "colab": {
          "base_uri": "https://localhost:8080/"
        },
        "id": "PXQcz7Z-G-h0",
        "outputId": "29bd9cf6-faaf-438d-d289-f68ab792cbdc"
      },
      "execution_count": 6,
      "outputs": [
        {
          "output_type": "stream",
          "name": "stdout",
          "text": [
            "Found 153 images belonging to 2 classes.\n"
          ]
        }
      ]
    },
    {
      "cell_type": "markdown",
      "source": [
        "## Building the CNN"
      ],
      "metadata": {
        "id": "EkB4PJjOOIxV"
      }
    },
    {
      "cell_type": "code",
      "source": [
        "# initializing CNN\n",
        "cnn = tf.keras.models.Sequential()\n",
        "\n",
        "# Convolution\n",
        "cnn.add(tf.keras.layers.Conv2D(filters=32, kernel_size=3 , activation='relu' , input_shape=[64,64,3]))\n",
        "\n",
        "# pooling\n",
        "cnn.add(tf.keras.layers.MaxPool2D(pool_size=2 , strides=2))\n",
        "\n",
        "# 2nd convolution layer\n",
        "cnn.add(tf.keras.layers.Conv2D(filters=32, kernel_size=3 , activation='relu' ))\n",
        "cnn.add(tf.keras.layers.MaxPool2D(pool_size=2 , strides=2))\n",
        "\n",
        "# flattening\n",
        "cnn.add(tf.keras.layers.Flatten())\n",
        "\n",
        "# full connection\n",
        "cnn.add(tf.keras.layers.Dense(units=128 , activation='relu'))\n",
        "\n",
        "# output layer\n",
        "cnn.add(tf.keras.layers.Dense(units=1 , activation='sigmoid'))"
      ],
      "metadata": {
        "id": "HBXAzclyHI4_"
      },
      "execution_count": 7,
      "outputs": []
    },
    {
      "cell_type": "markdown",
      "source": [
        "## Training the CNN"
      ],
      "metadata": {
        "id": "ob6HafBSOjVr"
      }
    },
    {
      "cell_type": "code",
      "source": [
        "# compiling the CNN\n",
        "cnn.compile(optimizer='adam' , loss='binary_crossentropy' , metrics=['accuracy'])\n",
        "\n",
        "# training CNN on train set and evaluate on Val set\n",
        "cnn.fit(x=training_set , validation_data=test_set , epochs=25)"
      ],
      "metadata": {
        "colab": {
          "base_uri": "https://localhost:8080/"
        },
        "id": "QrDYli9THVQW",
        "outputId": "210a9a8f-a775-44d7-9ad0-3e09ff7245c0"
      },
      "execution_count": 8,
      "outputs": [
        {
          "output_type": "stream",
          "name": "stdout",
          "text": [
            "Epoch 1/25\n",
            "20/20 [==============================] - 146s 7s/step - loss: 0.1139 - accuracy: 0.9412 - val_loss: 0.0064 - val_accuracy: 1.0000\n",
            "Epoch 2/25\n",
            "20/20 [==============================] - 6s 309ms/step - loss: 0.0237 - accuracy: 0.9905 - val_loss: 0.0346 - val_accuracy: 0.9804\n",
            "Epoch 3/25\n",
            "20/20 [==============================] - 8s 414ms/step - loss: 0.0043 - accuracy: 1.0000 - val_loss: 0.0038 - val_accuracy: 1.0000\n",
            "Epoch 4/25\n",
            "20/20 [==============================] - 6s 264ms/step - loss: 0.0016 - accuracy: 1.0000 - val_loss: 8.7862e-04 - val_accuracy: 1.0000\n",
            "Epoch 5/25\n",
            "20/20 [==============================] - 7s 349ms/step - loss: 0.0015 - accuracy: 1.0000 - val_loss: 0.0016 - val_accuracy: 1.0000\n",
            "Epoch 6/25\n",
            "20/20 [==============================] - 5s 251ms/step - loss: 5.5380e-04 - accuracy: 1.0000 - val_loss: 0.0021 - val_accuracy: 1.0000\n",
            "Epoch 7/25\n",
            "20/20 [==============================] - 6s 292ms/step - loss: 4.0602e-04 - accuracy: 1.0000 - val_loss: 0.0024 - val_accuracy: 1.0000\n",
            "Epoch 8/25\n",
            "20/20 [==============================] - 5s 245ms/step - loss: 2.0707e-04 - accuracy: 1.0000 - val_loss: 9.6999e-04 - val_accuracy: 1.0000\n",
            "Epoch 9/25\n",
            "20/20 [==============================] - 7s 341ms/step - loss: 1.4635e-04 - accuracy: 1.0000 - val_loss: 0.0022 - val_accuracy: 1.0000\n",
            "Epoch 10/25\n",
            "20/20 [==============================] - 5s 248ms/step - loss: 7.3965e-04 - accuracy: 1.0000 - val_loss: 4.9480e-04 - val_accuracy: 1.0000\n",
            "Epoch 11/25\n",
            "20/20 [==============================] - 7s 352ms/step - loss: 1.4214e-04 - accuracy: 1.0000 - val_loss: 0.0018 - val_accuracy: 1.0000\n",
            "Epoch 12/25\n",
            "20/20 [==============================] - 5s 247ms/step - loss: 2.5322e-04 - accuracy: 1.0000 - val_loss: 1.5686e-04 - val_accuracy: 1.0000\n",
            "Epoch 13/25\n",
            "20/20 [==============================] - 7s 351ms/step - loss: 5.8340e-05 - accuracy: 1.0000 - val_loss: 3.6303e-04 - val_accuracy: 1.0000\n",
            "Epoch 14/25\n",
            "20/20 [==============================] - 5s 249ms/step - loss: 3.6171e-05 - accuracy: 1.0000 - val_loss: 4.4746e-04 - val_accuracy: 1.0000\n",
            "Epoch 15/25\n",
            "20/20 [==============================] - 7s 342ms/step - loss: 6.3468e-05 - accuracy: 1.0000 - val_loss: 2.5143e-04 - val_accuracy: 1.0000\n",
            "Epoch 16/25\n",
            "20/20 [==============================] - 5s 251ms/step - loss: 7.1780e-05 - accuracy: 1.0000 - val_loss: 2.4381e-04 - val_accuracy: 1.0000\n",
            "Epoch 17/25\n",
            "20/20 [==============================] - 7s 335ms/step - loss: 3.3301e-05 - accuracy: 1.0000 - val_loss: 2.1495e-04 - val_accuracy: 1.0000\n",
            "Epoch 18/25\n",
            "20/20 [==============================] - 5s 268ms/step - loss: 2.0368e-05 - accuracy: 1.0000 - val_loss: 3.7819e-04 - val_accuracy: 1.0000\n",
            "Epoch 19/25\n",
            "20/20 [==============================] - 5s 249ms/step - loss: 3.5830e-05 - accuracy: 1.0000 - val_loss: 1.7561e-04 - val_accuracy: 1.0000\n",
            "Epoch 20/25\n",
            "20/20 [==============================] - 7s 370ms/step - loss: 1.3701e-05 - accuracy: 1.0000 - val_loss: 1.9783e-04 - val_accuracy: 1.0000\n",
            "Epoch 21/25\n",
            "20/20 [==============================] - 5s 253ms/step - loss: 3.0402e-05 - accuracy: 1.0000 - val_loss: 6.2395e-04 - val_accuracy: 1.0000\n",
            "Epoch 22/25\n",
            "20/20 [==============================] - 6s 307ms/step - loss: 1.3912e-05 - accuracy: 1.0000 - val_loss: 5.7037e-04 - val_accuracy: 1.0000\n",
            "Epoch 23/25\n",
            "20/20 [==============================] - 6s 320ms/step - loss: 4.1240e-05 - accuracy: 1.0000 - val_loss: 1.5836e-04 - val_accuracy: 1.0000\n",
            "Epoch 24/25\n",
            "20/20 [==============================] - 6s 269ms/step - loss: 1.2806e-05 - accuracy: 1.0000 - val_loss: 2.2198e-04 - val_accuracy: 1.0000\n",
            "Epoch 25/25\n",
            "20/20 [==============================] - 5s 255ms/step - loss: 9.3171e-06 - accuracy: 1.0000 - val_loss: 2.4718e-04 - val_accuracy: 1.0000\n"
          ]
        },
        {
          "output_type": "execute_result",
          "data": {
            "text/plain": [
              "<keras.src.callbacks.History at 0x794ab42f6320>"
            ]
          },
          "metadata": {},
          "execution_count": 8
        }
      ]
    },
    {
      "cell_type": "markdown",
      "source": [
        "## Making single prediction"
      ],
      "metadata": {
        "id": "1RILFqmNO2Oo"
      }
    },
    {
      "cell_type": "code",
      "source": [
        "import numpy as np\n",
        "from keras.preprocessing import image\n",
        "\n",
        "test_image = image.load_img('drive/My Drive/Deep Learning A-Z/Brain/New folder/coronal.jpg', target_size=(64,64))\n",
        "\n",
        "test_image = image.img_to_array(test_image)\n",
        "\n",
        "test_image = np.expand_dims(test_image , axis=0)\n",
        "\n",
        "result = cnn.predict(test_image)\n",
        "\n"
      ],
      "metadata": {
        "colab": {
          "base_uri": "https://localhost:8080/"
        },
        "id": "JplHrrlvJiyJ",
        "outputId": "5f27d4e0-25e7-47d6-dc1a-72708273c69f"
      },
      "execution_count": 9,
      "outputs": [
        {
          "output_type": "stream",
          "name": "stdout",
          "text": [
            "1/1 [==============================] - 0s 103ms/step\n"
          ]
        }
      ]
    },
    {
      "cell_type": "code",
      "source": [
        "training_set.class_indices\n",
        "\n",
        "if result[0][0]==0:\n",
        "  prediction='axial'\n",
        "else :\n",
        "  prediction='coronal'\n",
        "\n",
        "print(prediction)"
      ],
      "metadata": {
        "colab": {
          "base_uri": "https://localhost:8080/"
        },
        "id": "H3qwM6IBJ5Kf",
        "outputId": "55749307-b408-4ef4-d2c8-405a85521b45"
      },
      "execution_count": 10,
      "outputs": [
        {
          "output_type": "stream",
          "name": "stdout",
          "text": [
            "coronal\n"
          ]
        }
      ]
    }
  ]
}